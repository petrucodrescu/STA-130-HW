{
 "cells": [
  {
   "cell_type": "markdown",
   "id": "db153567",
   "metadata": {},
   "source": [
    "Suggested Group: Petru Codrescu, Andre Sanchez, Jason Cao Shi"
   ]
  },
  {
   "cell_type": "markdown",
   "id": "61c76472",
   "metadata": {},
   "source": [
    "# Question 1: Does your age affect how much time you socialize with friends in a week and its implication on feelings of loneliness? "
   ]
  },
  {
   "cell_type": "markdown",
   "id": "53fd503c",
   "metadata": {},
   "source": [
    "**Description of Variables:**\n",
    "\n",
    "The 3 main variables I plan to use to conduct this analysis are: DEMO_age, CONNECTION_social_time_friends_p7d, and LONELY_chronic_lonely_others. The first variable is a discrete numerical data set that contains the ages of the people who took the survey. The second variable is also another discrete numerical data set that contains the number of hours a person spent with friends in a week. The third and final variable is also discrete, and it contains how many people the person who took the survey knows of other people who continuously experience loneliness.\n",
    "\n",
    "When it comes to visualizing this data, I would start off by analyzing each variable on its own and then working with their combinations. For the demo_age I would create a bar plot with age ranges that would capture a) the size of this variable and b) figuring out some of its parameters such as the average age participating, the most frequent age range, etc. and a whisker-box plot to help quantify the spread of the data (IQR, median, etc.). For the second variable I would create either a whisker-box plot to show the spread of the data and to calculate the mean and median. Finally, for the variable involving loneliness, I would stick again with the whisker-box plot to show the spread of the values to understand what the rates of feeling lonely are for those who participated in the survey. \n",
    "\n",
    "Afterwards I would create 2 scatter plots, both having the Demo_age variable on the x-axis and the y-axis the other 2 variables, and where each age range would have a whisker plot created for each y-axis variable and whose median would be plotted on the graph. "
   ]
  },
  {
   "cell_type": "markdown",
   "id": "15261786",
   "metadata": {},
   "source": [
    "**Description of Analysis:**\n",
    "\n",
    "My analysis would begin by, as stated above, working with each of the variables on their own. This would begin by preparing the data (removing empty values as an example) and then creating the visualizations and the whisker-box plots. When it comes to comparing the 2 data sets, I would begin by calculating a whisker-box plot of each variable (the loneliness and time socializing variables) for each age and then plotting their medians on a line graph (with the ages on the x-axis and the social time with friends on the y-axis as an example of the first line graph). From this I would compare my 2-line graphs, (ages v.s time with friends and ages v.s chronic loneliness) by overlaying each one over each other for some initial intuition, and then either transforming each one into a smooth distribution and then comparing. \n",
    "\n",
    "(An interesting side note as well is after talking with Professor Schwartz, I learned that we would be discussing the concept of statistical interaction between models later in the course and I think it would be another useful method of analysis). "
   ]
  },
  {
   "cell_type": "markdown",
   "id": "36d70b22",
   "metadata": {},
   "source": [
    "**Hypothesis: As people get older, time spent socializing with friends decreases leading to higher rates of loneliness.**\n",
    "\n",
    "I believe if we began to conduct an analysis of this data using the methods described above, we would find that as people get older, they begin to lose time socializing with others (importantly friends). As well I believe we would see a significant decrease in time socializing with friends for the age groups that encompass the more senior members of our society causing an increase in rates of loneliness to be prevalent among this population."
   ]
  },
  {
   "cell_type": "markdown",
   "id": "df0edae1",
   "metadata": {},
   "source": [
    "# Question 2: Is household income influenced by the duration of a work shift? "
   ]
  },
  {
   "cell_type": "markdown",
   "id": "6c3264df",
   "metadata": {},
   "source": [
    "**Description of Variables:**\n",
    "\n",
    "I will use 2 main variables, the first being a variable called: DEMO_household_income, a categorical variable that asked users to choose which income range best suited their household income, and the second variable will be: WORK_shift_length, a variable that contains discrete numerical data that contains the work shift lengths (in hours) of the participants of the survey. I chose these 2 variables as they best contained the data that I wished to use for my analysis. For the first variable I intend to create a bar plot with the ranges as bins, and the y-axis counting the frequency that appears for each income range. \n",
    "\n",
    "For the second variable (the work shift length variable) I will first create a bar plot with ranges on the bottom to help find some intuition for the data we will be working with and then create a whisker-box plot to help us visualize the spread of the data. I will also be calculating the mean and median for this variable, while for the household income variable I will only calculate the mode. "
   ]
  },
  {
   "cell_type": "markdown",
   "id": "78599f3d",
   "metadata": {},
   "source": [
    "**Description of Analysis:**\n",
    "\n",
    "When it comes to analyzing the datasets, I will begin by splitting the work shift length variable into 2 different containers. The first will be the work shifts that are less than or equal to 8h, while the other container will all work shifts strictly greater than 8 hours. This decision may seem weird but on average, many people are used to the 8h work shift, and the split will be important for the hypothesis later. \n",
    "\n",
    "After I do this, I will plot a bar graph showing the frequency of each household income range for those with work shifts less or equal to 8h and the same for those greater than 8. This split will allow us to compare both the spread, and frequency of the household incomes for each category and also give us insight into how many people work greater than 8 hours or vice versa. "
   ]
  },
  {
   "cell_type": "markdown",
   "id": "a9790110",
   "metadata": {},
   "source": [
    "**Hypothesis: If the work shift is longer than 8h, we expect the most common household income range to be less than the most common household income range for those with work shifts less than or equal to 8h.**\n",
    "\n",
    "This is why the 8h split is crucial for the work shift length variable; most higher paying jobs are those in the non-facing consumer service industry. Jobs such as banking, technology, finance, etc. Often have 8 work weeks and much higher pay than blue collar jobs which often have long hours but much lower pay. Because of this initial intuition, we expect the survey data to follow this trend as well. This will cause us to ask questions on how this inequality could be fixed and glimpses of other interesting real-world trends. "
   ]
  },
  {
   "cell_type": "markdown",
   "id": "d151b670",
   "metadata": {},
   "source": [
    "# Question 3: How does sleep affect anxiety in teenagers to young adults?"
   ]
  },
  {
   "cell_type": "markdown",
   "id": "eed57741",
   "metadata": {},
   "source": [
    "**Description of Variables:**\n",
    "\n",
    "I will be using 2 main variables, while an extra one will be used to single in on the teenager to young adult population. My 2 main variables will be: LIFESTYLE_time_use_priorities_sleep_actual and the WELLNESS_anxiety_diagnosis variables. Beginning with the prioritizing sleep variable, it is an ordinal data type, in which the participant was asked to rank from a scale of 1-13, where 1 is getting enough sleep being a top priority and 13 being a bottom priority. The second variable is the anxiety diagnosis, which has 3 possible responses: Yes, no, and presented but no response however, only the yes and no will be used as to better analyze any causation we have to work with confirmed cases and those without anxiety. The third variable (DEMO_age), will be used to single in on using only teenager to young adults, for the purpose of this analysis it will be the ages between and inclusive of 16-28. \n",
    "\n",
    "Like the previous two research questions, I will focus on each variable independently before offering a visualization that will work with both data sets. For the priorities I will create a bar plot, with each bar being the ranking and the y-axis being the frequency of each, of which I will find the most frequent ranking. For the anxiety diagnosis, it will also be a bar plot (but with only 2 bars as there will only be yes or no) but I will calculate the proportion of yes’ and no’s as well. "
   ]
  },
  {
   "cell_type": "markdown",
   "id": "bb18d28b",
   "metadata": {},
   "source": [
    "**Description of Analysis:**\n",
    "\n",
    "The analysis as stated above will happen when comparing the 2 data sets, each age or age range will be split into 2, those with a major priority of getting sleep, a score on the scale greater than 7 (and inclusive) and those without (vice versa of the first condition) and after the split, the binary bar plot will be the same as the independent analysis (one bar for yes and one for no). Afterwards, we will compare the proportion of those with anxiety to the original calculation of the from the original data set to see if there is an effect from prioritizing sleep. "
   ]
  },
  {
   "cell_type": "markdown",
   "id": "94dbacf5",
   "metadata": {},
   "source": [
    "**Hypothesis: Those who prioritize sleeping often have lower rates of anxiety than those who do not.**\n",
    "\n",
    "There are many reports done that illustrate the connection between sleep and having good mental health. Because of this literature we expect the data to follow a similar course of action (although there will be a bit of bias as the variable used to quantify sleep is prioritizing or a scale, indicating a subjective response but it's one of the few variables available that is best suited for analysis on the topic of sleep in the data set) and hence why our hypothesis should work. Furthermore, I believe this data would support our hypothesis and with it the answer to our research question because if we were to not only compare anxiety but other mental health issues, it would further reinforce our hypothesis and might allow us to generalize it to for those who prioritize sleep often have lower rates of mental health issues."
   ]
  }
 ],
 "metadata": {
  "kernelspec": {
   "display_name": "Python 3 (ipykernel)",
   "language": "python",
   "name": "python3"
  },
  "language_info": {
   "codemirror_mode": {
    "name": "ipython",
    "version": 3
   },
   "file_extension": ".py",
   "mimetype": "text/x-python",
   "name": "python",
   "nbconvert_exporter": "python",
   "pygments_lexer": "ipython3",
   "version": "3.11.6"
  }
 },
 "nbformat": 4,
 "nbformat_minor": 5
}
